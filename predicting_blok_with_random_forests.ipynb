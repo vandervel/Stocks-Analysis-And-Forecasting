{
 "cells": [
  {
   "cell_type": "markdown",
   "id": "a049b4d3",
   "metadata": {},
   "source": [
    "# Predicting stock performance using Random Forests\n",
    "Michael Vandervelden, July 2023 <br>\n",
    "Project inspired by, and some code adapted from project by Lucas Rea found at\n",
    "https://towardsdatascience.com/predicting-future-stock-market-trends-with-python-machine-learning-2bf3f1633b3c"
   ]
  },
  {
   "cell_type": "code",
   "execution_count": 54,
   "id": "9640b32a",
   "metadata": {},
   "outputs": [],
   "source": [
    "# Import necessary libraries. Stock indicators and features are derived from the finta library.\n",
    "\n",
    "import yfinance as yf\n",
    "import datetime\n",
    "import pandas as pd\n",
    "import numpy as np\n",
    "from finta import TA\n",
    "import matplotlib.pyplot as plt\n",
    "import glob\n",
    "import os\n",
    "import seaborn as sns\n",
    "\n",
    "from sklearn import svm\n",
    "from sklearn.ensemble import RandomForestClassifier\n",
    "from sklearn.neighbors import KNeighborsClassifier\n",
    "from sklearn.ensemble import AdaBoostClassifier\n",
    "from sklearn.ensemble import GradientBoostingClassifier\n",
    "from sklearn.ensemble import VotingClassifier\n",
    "from sklearn.model_selection import train_test_split, GridSearchCV, KFold, LeaveOneOut\n",
    "from sklearn.model_selection import validation_curve\n",
    "from sklearn.metrics import confusion_matrix, classification_report\n",
    "from sklearn.metrics import RocCurveDisplay\n",
    "from sklearn import metrics\n",
    "from sklearn.experimental import enable_halving_search_cv  # noqa\n",
    "from sklearn.model_selection import HalvingGridSearchCV"
   ]
  },
  {
   "cell_type": "markdown",
   "id": "f2df7622",
   "metadata": {},
   "source": [
    "Create list of indicator names. These will be used later to get features for each respective ETF"
   ]
  },
  {
   "cell_type": "code",
   "execution_count": 5,
   "id": "16328fc1",
   "metadata": {},
   "outputs": [],
   "source": [
    "INDICATORS = ['RSI', 'MACD', 'STOCH','ADL', 'ATR', 'MOM', 'MFI', 'ROC', 'OBV', 'CCI', 'EMV', 'VORTEX']"
   ]
  },
  {
   "cell_type": "code",
   "execution_count": 6,
   "id": "879d44f1",
   "metadata": {},
   "outputs": [],
   "source": [
    "path = os.getcwd()\n",
    "path = path + \"\\\\ETFs\"\n",
    "csvs = glob.glob(os.path.join(path, \"*.csv\"))"
   ]
  },
  {
   "cell_type": "markdown",
   "id": "82636c03",
   "metadata": {},
   "source": [
    "Get list of the filepaths for 10 ETF's. Only one will be selected for deeper analysis and prediction."
   ]
  },
  {
   "cell_type": "code",
   "execution_count": 7,
   "id": "d9eb04f2",
   "metadata": {},
   "outputs": [
    {
     "data": {
      "text/plain": [
       "['C:\\\\Users\\\\brand\\\\OneDrive\\\\Documents\\\\Notebooks\\\\ETFs\\\\ARKF.csv',\n",
       " 'C:\\\\Users\\\\brand\\\\OneDrive\\\\Documents\\\\Notebooks\\\\ETFs\\\\BITQ.csv',\n",
       " 'C:\\\\Users\\\\brand\\\\OneDrive\\\\Documents\\\\Notebooks\\\\ETFs\\\\BLOK.csv',\n",
       " 'C:\\\\Users\\\\brand\\\\OneDrive\\\\Documents\\\\Notebooks\\\\ETFs\\\\EMFQ.csv',\n",
       " 'C:\\\\Users\\\\brand\\\\OneDrive\\\\Documents\\\\Notebooks\\\\ETFs\\\\FINX.csv',\n",
       " 'C:\\\\Users\\\\brand\\\\OneDrive\\\\Documents\\\\Notebooks\\\\ETFs\\\\FNTC.csv',\n",
       " 'C:\\\\Users\\\\brand\\\\OneDrive\\\\Documents\\\\Notebooks\\\\ETFs\\\\IPAY.csv',\n",
       " 'C:\\\\Users\\\\brand\\\\OneDrive\\\\Documents\\\\Notebooks\\\\ETFs\\\\IYG.csv',\n",
       " 'C:\\\\Users\\\\brand\\\\OneDrive\\\\Documents\\\\Notebooks\\\\ETFs\\\\KOIN.csv',\n",
       " 'C:\\\\Users\\\\brand\\\\OneDrive\\\\Documents\\\\Notebooks\\\\ETFs\\\\TPAY.csv']"
      ]
     },
     "execution_count": 7,
     "metadata": {},
     "output_type": "execute_result"
    }
   ],
   "source": [
    "csvs"
   ]
  },
  {
   "cell_type": "markdown",
   "id": "e2c176eb",
   "metadata": {},
   "source": [
    "Build iterable list of each ETF's name, and read in that stock's data using pandas."
   ]
  },
  {
   "cell_type": "code",
   "execution_count": 8,
   "id": "0d965e42",
   "metadata": {},
   "outputs": [],
   "source": [
    "list_of_names = ['arkf', 'bitq', 'blok', 'emfq', 'finx', 'fntc', 'ipay','iyg','koin','tpay']\n",
    "df_list = []\n",
    "\n",
    "num_dfs = len(list_of_names)\n",
    "\n",
    "for i in range(num_dfs):\n",
    "    temp_df = pd.read_csv(csvs[i])\n",
    "    temp_df['name'] = list_of_names[i]\n",
    "    df_list.append(temp_df)"
   ]
  },
  {
   "cell_type": "code",
   "execution_count": 9,
   "id": "cf70b0e1",
   "metadata": {},
   "outputs": [
    {
     "data": {
      "text/html": [
       "<div>\n",
       "<style scoped>\n",
       "    .dataframe tbody tr th:only-of-type {\n",
       "        vertical-align: middle;\n",
       "    }\n",
       "\n",
       "    .dataframe tbody tr th {\n",
       "        vertical-align: top;\n",
       "    }\n",
       "\n",
       "    .dataframe thead th {\n",
       "        text-align: right;\n",
       "    }\n",
       "</style>\n",
       "<table border=\"1\" class=\"dataframe\">\n",
       "  <thead>\n",
       "    <tr style=\"text-align: right;\">\n",
       "      <th></th>\n",
       "      <th>Date</th>\n",
       "      <th>Open</th>\n",
       "      <th>High</th>\n",
       "      <th>Low</th>\n",
       "      <th>Close</th>\n",
       "      <th>Volume</th>\n",
       "      <th>Dividends</th>\n",
       "      <th>Stock Splits</th>\n",
       "      <th>name</th>\n",
       "    </tr>\n",
       "  </thead>\n",
       "  <tbody>\n",
       "    <tr>\n",
       "      <th>0</th>\n",
       "      <td>2019-01-31 00:00:00-05:00</td>\n",
       "      <td>27.173500</td>\n",
       "      <td>27.173500</td>\n",
       "      <td>27.173500</td>\n",
       "      <td>27.173500</td>\n",
       "      <td>0</td>\n",
       "      <td>0</td>\n",
       "      <td>0</td>\n",
       "      <td>tpay</td>\n",
       "    </tr>\n",
       "    <tr>\n",
       "      <th>1</th>\n",
       "      <td>2019-02-01 00:00:00-05:00</td>\n",
       "      <td>27.173500</td>\n",
       "      <td>27.173500</td>\n",
       "      <td>27.173500</td>\n",
       "      <td>27.173500</td>\n",
       "      <td>0</td>\n",
       "      <td>0</td>\n",
       "      <td>0</td>\n",
       "      <td>tpay</td>\n",
       "    </tr>\n",
       "    <tr>\n",
       "      <th>2</th>\n",
       "      <td>2019-02-04 00:00:00-05:00</td>\n",
       "      <td>27.173500</td>\n",
       "      <td>27.173500</td>\n",
       "      <td>27.173500</td>\n",
       "      <td>27.173500</td>\n",
       "      <td>0</td>\n",
       "      <td>0</td>\n",
       "      <td>0</td>\n",
       "      <td>tpay</td>\n",
       "    </tr>\n",
       "    <tr>\n",
       "      <th>3</th>\n",
       "      <td>2019-02-05 00:00:00-05:00</td>\n",
       "      <td>27.173500</td>\n",
       "      <td>27.173500</td>\n",
       "      <td>27.173500</td>\n",
       "      <td>27.173500</td>\n",
       "      <td>0</td>\n",
       "      <td>0</td>\n",
       "      <td>0</td>\n",
       "      <td>tpay</td>\n",
       "    </tr>\n",
       "    <tr>\n",
       "      <th>4</th>\n",
       "      <td>2019-02-06 00:00:00-05:00</td>\n",
       "      <td>27.173500</td>\n",
       "      <td>27.173500</td>\n",
       "      <td>27.173500</td>\n",
       "      <td>27.173500</td>\n",
       "      <td>0</td>\n",
       "      <td>0</td>\n",
       "      <td>0</td>\n",
       "      <td>tpay</td>\n",
       "    </tr>\n",
       "    <tr>\n",
       "      <th>...</th>\n",
       "      <td>...</td>\n",
       "      <td>...</td>\n",
       "      <td>...</td>\n",
       "      <td>...</td>\n",
       "      <td>...</td>\n",
       "      <td>...</td>\n",
       "      <td>...</td>\n",
       "      <td>...</td>\n",
       "      <td>...</td>\n",
       "    </tr>\n",
       "    <tr>\n",
       "      <th>935</th>\n",
       "      <td>2022-10-17 00:00:00-04:00</td>\n",
       "      <td>24.635000</td>\n",
       "      <td>24.635000</td>\n",
       "      <td>24.635000</td>\n",
       "      <td>24.635000</td>\n",
       "      <td>12</td>\n",
       "      <td>0</td>\n",
       "      <td>0</td>\n",
       "      <td>tpay</td>\n",
       "    </tr>\n",
       "    <tr>\n",
       "      <th>936</th>\n",
       "      <td>2022-10-18 00:00:00-04:00</td>\n",
       "      <td>25.129999</td>\n",
       "      <td>25.129999</td>\n",
       "      <td>24.719999</td>\n",
       "      <td>24.895000</td>\n",
       "      <td>2546</td>\n",
       "      <td>0</td>\n",
       "      <td>0</td>\n",
       "      <td>tpay</td>\n",
       "    </tr>\n",
       "    <tr>\n",
       "      <th>937</th>\n",
       "      <td>2022-10-19 00:00:00-04:00</td>\n",
       "      <td>24.590000</td>\n",
       "      <td>24.590000</td>\n",
       "      <td>24.364799</td>\n",
       "      <td>24.364799</td>\n",
       "      <td>101</td>\n",
       "      <td>0</td>\n",
       "      <td>0</td>\n",
       "      <td>tpay</td>\n",
       "    </tr>\n",
       "    <tr>\n",
       "      <th>938</th>\n",
       "      <td>2022-10-20 00:00:00-04:00</td>\n",
       "      <td>24.799999</td>\n",
       "      <td>24.799999</td>\n",
       "      <td>24.303600</td>\n",
       "      <td>24.303600</td>\n",
       "      <td>212</td>\n",
       "      <td>0</td>\n",
       "      <td>0</td>\n",
       "      <td>tpay</td>\n",
       "    </tr>\n",
       "    <tr>\n",
       "      <th>939</th>\n",
       "      <td>2022-10-21 00:00:00-04:00</td>\n",
       "      <td>23.740000</td>\n",
       "      <td>24.608900</td>\n",
       "      <td>23.740000</td>\n",
       "      <td>24.608900</td>\n",
       "      <td>105</td>\n",
       "      <td>0</td>\n",
       "      <td>0</td>\n",
       "      <td>tpay</td>\n",
       "    </tr>\n",
       "  </tbody>\n",
       "</table>\n",
       "<p>940 rows × 9 columns</p>\n",
       "</div>"
      ],
      "text/plain": [
       "                          Date       Open       High        Low      Close  \\\n",
       "0    2019-01-31 00:00:00-05:00  27.173500  27.173500  27.173500  27.173500   \n",
       "1    2019-02-01 00:00:00-05:00  27.173500  27.173500  27.173500  27.173500   \n",
       "2    2019-02-04 00:00:00-05:00  27.173500  27.173500  27.173500  27.173500   \n",
       "3    2019-02-05 00:00:00-05:00  27.173500  27.173500  27.173500  27.173500   \n",
       "4    2019-02-06 00:00:00-05:00  27.173500  27.173500  27.173500  27.173500   \n",
       "..                         ...        ...        ...        ...        ...   \n",
       "935  2022-10-17 00:00:00-04:00  24.635000  24.635000  24.635000  24.635000   \n",
       "936  2022-10-18 00:00:00-04:00  25.129999  25.129999  24.719999  24.895000   \n",
       "937  2022-10-19 00:00:00-04:00  24.590000  24.590000  24.364799  24.364799   \n",
       "938  2022-10-20 00:00:00-04:00  24.799999  24.799999  24.303600  24.303600   \n",
       "939  2022-10-21 00:00:00-04:00  23.740000  24.608900  23.740000  24.608900   \n",
       "\n",
       "     Volume  Dividends  Stock Splits  name  \n",
       "0         0          0             0  tpay  \n",
       "1         0          0             0  tpay  \n",
       "2         0          0             0  tpay  \n",
       "3         0          0             0  tpay  \n",
       "4         0          0             0  tpay  \n",
       "..      ...        ...           ...   ...  \n",
       "935      12          0             0  tpay  \n",
       "936    2546          0             0  tpay  \n",
       "937     101          0             0  tpay  \n",
       "938     212          0             0  tpay  \n",
       "939     105          0             0  tpay  \n",
       "\n",
       "[940 rows x 9 columns]"
      ]
     },
     "execution_count": 9,
     "metadata": {},
     "output_type": "execute_result"
    }
   ],
   "source": [
    "df_list[9]"
   ]
  },
  {
   "cell_type": "code",
   "execution_count": 10,
   "id": "adf72cc1",
   "metadata": {},
   "outputs": [
    {
     "ename": "NameError",
     "evalue": "name 'fntc' is not defined",
     "output_type": "error",
     "traceback": [
      "\u001b[1;31m---------------------------------------------------------------------------\u001b[0m",
      "\u001b[1;31mNameError\u001b[0m                                 Traceback (most recent call last)",
      "Cell \u001b[1;32mIn[10], line 1\u001b[0m\n\u001b[1;32m----> 1\u001b[0m \u001b[43mfntc\u001b[49m\u001b[38;5;241m.\u001b[39mhead()\n",
      "\u001b[1;31mNameError\u001b[0m: name 'fntc' is not defined"
     ]
    }
   ],
   "source": [
    "fntc.head()"
   ]
  },
  {
   "cell_type": "code",
   "execution_count": 11,
   "id": "0d50861f",
   "metadata": {},
   "outputs": [
    {
     "data": {
      "image/png": "[encoded data removed]",
      "text/plain": [
       "<Figure size 640x480 with 1 Axes>"
      ]
     },
     "metadata": {},
     "output_type": "display_data"
    }
   ],
   "source": [
    "plt.figure()\n",
    "for df in df_list:\n",
    "    plt.plot(df['Close'], label=df['name'][0])\n",
    "    plt.legend()"
   ]
  },
  {
   "cell_type": "markdown",
   "id": "31f3a250",
   "metadata": {},
   "source": [
    "Above is a time series plot of each ETF's close price. Given BLOK's significant increase in value, subsequent volatility, and slow decline, this the ETF we will select for our predictive analysis."
   ]
  },
  {
   "cell_type": "code",
   "execution_count": 12,
   "id": "145bdcf3",
   "metadata": {},
   "outputs": [],
   "source": [
    "blok_prelim = df_list[2]"
   ]
  },
  {
   "cell_type": "code",
   "execution_count": 13,
   "id": "d4f28dd4",
   "metadata": {},
   "outputs": [
    {
     "data": {
      "text/html": [
       "<div>\n",
       "<style scoped>\n",
       "    .dataframe tbody tr th:only-of-type {\n",
       "        vertical-align: middle;\n",
       "    }\n",
       "\n",
       "    .dataframe tbody tr th {\n",
       "        vertical-align: top;\n",
       "    }\n",
       "\n",
       "    .dataframe thead th {\n",
       "        text-align: right;\n",
       "    }\n",
       "</style>\n",
       "<table border=\"1\" class=\"dataframe\">\n",
       "  <thead>\n",
       "    <tr style=\"text-align: right;\">\n",
       "      <th></th>\n",
       "      <th>Date</th>\n",
       "      <th>Open</th>\n",
       "      <th>High</th>\n",
       "      <th>Low</th>\n",
       "      <th>Close</th>\n",
       "      <th>Volume</th>\n",
       "      <th>Dividends</th>\n",
       "      <th>Stock Splits</th>\n",
       "      <th>name</th>\n",
       "    </tr>\n",
       "  </thead>\n",
       "  <tbody>\n",
       "    <tr>\n",
       "      <th>0</th>\n",
       "      <td>2018-01-25 00:00:00-05:00</td>\n",
       "      <td>17.668915</td>\n",
       "      <td>17.702252</td>\n",
       "      <td>17.402213</td>\n",
       "      <td>17.418882</td>\n",
       "      <td>1140200</td>\n",
       "      <td>0.0</td>\n",
       "      <td>0</td>\n",
       "      <td>blok</td>\n",
       "    </tr>\n",
       "    <tr>\n",
       "      <th>1</th>\n",
       "      <td>2018-01-26 00:00:00-05:00</td>\n",
       "      <td>17.485556</td>\n",
       "      <td>17.643909</td>\n",
       "      <td>17.460553</td>\n",
       "      <td>17.643909</td>\n",
       "      <td>1067100</td>\n",
       "      <td>0.0</td>\n",
       "      <td>0</td>\n",
       "      <td>blok</td>\n",
       "    </tr>\n",
       "    <tr>\n",
       "      <th>2</th>\n",
       "      <td>2018-01-29 00:00:00-05:00</td>\n",
       "      <td>17.760592</td>\n",
       "      <td>17.884774</td>\n",
       "      <td>17.693916</td>\n",
       "      <td>17.760592</td>\n",
       "      <td>1133900</td>\n",
       "      <td>0.0</td>\n",
       "      <td>0</td>\n",
       "      <td>blok</td>\n",
       "    </tr>\n",
       "    <tr>\n",
       "      <th>3</th>\n",
       "      <td>2018-01-30 00:00:00-05:00</td>\n",
       "      <td>17.693918</td>\n",
       "      <td>17.693918</td>\n",
       "      <td>17.418883</td>\n",
       "      <td>17.468889</td>\n",
       "      <td>1096700</td>\n",
       "      <td>0.0</td>\n",
       "      <td>0</td>\n",
       "      <td>blok</td>\n",
       "    </tr>\n",
       "    <tr>\n",
       "      <th>4</th>\n",
       "      <td>2018-01-31 00:00:00-05:00</td>\n",
       "      <td>17.493892</td>\n",
       "      <td>17.526395</td>\n",
       "      <td>17.293866</td>\n",
       "      <td>17.410547</td>\n",
       "      <td>706100</td>\n",
       "      <td>0.0</td>\n",
       "      <td>0</td>\n",
       "      <td>blok</td>\n",
       "    </tr>\n",
       "  </tbody>\n",
       "</table>\n",
       "</div>"
      ],
      "text/plain": [
       "                        Date       Open       High        Low      Close  \\\n",
       "0  2018-01-25 00:00:00-05:00  17.668915  17.702252  17.402213  17.418882   \n",
       "1  2018-01-26 00:00:00-05:00  17.485556  17.643909  17.460553  17.643909   \n",
       "2  2018-01-29 00:00:00-05:00  17.760592  17.884774  17.693916  17.760592   \n",
       "3  2018-01-30 00:00:00-05:00  17.693918  17.693918  17.418883  17.468889   \n",
       "4  2018-01-31 00:00:00-05:00  17.493892  17.526395  17.293866  17.410547   \n",
       "\n",
       "    Volume  Dividends  Stock Splits  name  \n",
       "0  1140200        0.0             0  blok  \n",
       "1  1067100        0.0             0  blok  \n",
       "2  1133900        0.0             0  blok  \n",
       "3  1096700        0.0             0  blok  \n",
       "4   706100        0.0             0  blok  "
      ]
     },
     "execution_count": 13,
     "metadata": {},
     "output_type": "execute_result"
    }
   ],
   "source": [
    "blok_prelim.head()"
   ]
  },
  {
   "cell_type": "code",
   "execution_count": 14,
   "id": "0420907a",
   "metadata": {},
   "outputs": [
    {
     "data": {
      "text/plain": [
       "[<matplotlib.lines.Line2D at 0x25726740310>]"
      ]
     },
     "execution_count": 14,
     "metadata": {},
     "output_type": "execute_result"
    },
    {
     "data": {
      "image/png": "[encoded data removed]",
      "text/plain": [
       "<Figure size 640x480 with 1 Axes>"
      ]
     },
     "metadata": {},
     "output_type": "display_data"
    }
   ],
   "source": [
    "plt.plot(blok_prelim['Close'])"
   ]
  },
  {
   "cell_type": "markdown",
   "id": "6d2042ea",
   "metadata": {},
   "source": [
    "Another plot of BLOK's close price."
   ]
  },
  {
   "cell_type": "code",
   "execution_count": 15,
   "id": "b7a09f37",
   "metadata": {},
   "outputs": [],
   "source": [
    "blok_prelim.rename(columns={'Date': 'date','Close':'close', 'Open':'open', 'High':'high', 'Low':'low', 'Volume':'volume'}, inplace=True)"
   ]
  },
  {
   "cell_type": "code",
   "execution_count": 16,
   "id": "74c87439",
   "metadata": {},
   "outputs": [
    {
     "data": {
      "text/html": [
       "<div>\n",
       "<style scoped>\n",
       "    .dataframe tbody tr th:only-of-type {\n",
       "        vertical-align: middle;\n",
       "    }\n",
       "\n",
       "    .dataframe tbody tr th {\n",
       "        vertical-align: top;\n",
       "    }\n",
       "\n",
       "    .dataframe thead th {\n",
       "        text-align: right;\n",
       "    }\n",
       "</style>\n",
       "<table border=\"1\" class=\"dataframe\">\n",
       "  <thead>\n",
       "    <tr style=\"text-align: right;\">\n",
       "      <th></th>\n",
       "      <th>date</th>\n",
       "      <th>open</th>\n",
       "      <th>high</th>\n",
       "      <th>low</th>\n",
       "      <th>close</th>\n",
       "      <th>volume</th>\n",
       "      <th>Dividends</th>\n",
       "      <th>Stock Splits</th>\n",
       "      <th>name</th>\n",
       "    </tr>\n",
       "  </thead>\n",
       "  <tbody>\n",
       "    <tr>\n",
       "      <th>0</th>\n",
       "      <td>2018-01-25 00:00:00-05:00</td>\n",
       "      <td>17.668915</td>\n",
       "      <td>17.702252</td>\n",
       "      <td>17.402213</td>\n",
       "      <td>17.418882</td>\n",
       "      <td>1140200</td>\n",
       "      <td>0.0</td>\n",
       "      <td>0</td>\n",
       "      <td>blok</td>\n",
       "    </tr>\n",
       "    <tr>\n",
       "      <th>1</th>\n",
       "      <td>2018-01-26 00:00:00-05:00</td>\n",
       "      <td>17.485556</td>\n",
       "      <td>17.643909</td>\n",
       "      <td>17.460553</td>\n",
       "      <td>17.643909</td>\n",
       "      <td>1067100</td>\n",
       "      <td>0.0</td>\n",
       "      <td>0</td>\n",
       "      <td>blok</td>\n",
       "    </tr>\n",
       "    <tr>\n",
       "      <th>2</th>\n",
       "      <td>2018-01-29 00:00:00-05:00</td>\n",
       "      <td>17.760592</td>\n",
       "      <td>17.884774</td>\n",
       "      <td>17.693916</td>\n",
       "      <td>17.760592</td>\n",
       "      <td>1133900</td>\n",
       "      <td>0.0</td>\n",
       "      <td>0</td>\n",
       "      <td>blok</td>\n",
       "    </tr>\n",
       "    <tr>\n",
       "      <th>3</th>\n",
       "      <td>2018-01-30 00:00:00-05:00</td>\n",
       "      <td>17.693918</td>\n",
       "      <td>17.693918</td>\n",
       "      <td>17.418883</td>\n",
       "      <td>17.468889</td>\n",
       "      <td>1096700</td>\n",
       "      <td>0.0</td>\n",
       "      <td>0</td>\n",
       "      <td>blok</td>\n",
       "    </tr>\n",
       "    <tr>\n",
       "      <th>4</th>\n",
       "      <td>2018-01-31 00:00:00-05:00</td>\n",
       "      <td>17.493892</td>\n",
       "      <td>17.526395</td>\n",
       "      <td>17.293866</td>\n",
       "      <td>17.410547</td>\n",
       "      <td>706100</td>\n",
       "      <td>0.0</td>\n",
       "      <td>0</td>\n",
       "      <td>blok</td>\n",
       "    </tr>\n",
       "  </tbody>\n",
       "</table>\n",
       "</div>"
      ],
      "text/plain": [
       "                        date       open       high        low      close  \\\n",
       "0  2018-01-25 00:00:00-05:00  17.668915  17.702252  17.402213  17.418882   \n",
       "1  2018-01-26 00:00:00-05:00  17.485556  17.643909  17.460553  17.643909   \n",
       "2  2018-01-29 00:00:00-05:00  17.760592  17.884774  17.693916  17.760592   \n",
       "3  2018-01-30 00:00:00-05:00  17.693918  17.693918  17.418883  17.468889   \n",
       "4  2018-01-31 00:00:00-05:00  17.493892  17.526395  17.293866  17.410547   \n",
       "\n",
       "    volume  Dividends  Stock Splits  name  \n",
       "0  1140200        0.0             0  blok  \n",
       "1  1067100        0.0             0  blok  \n",
       "2  1133900        0.0             0  blok  \n",
       "3  1096700        0.0             0  blok  \n",
       "4   706100        0.0             0  blok  "
      ]
     },
     "execution_count": 16,
     "metadata": {},
     "output_type": "execute_result"
    }
   ],
   "source": [
    "blok_prelim.head()"
   ]
  },
  {
   "cell_type": "code",
   "execution_count": 17,
   "id": "ebfacc27",
   "metadata": {},
   "outputs": [],
   "source": [
    "blok_prelim.drop(columns=['name'], inplace=True)"
   ]
  },
  {
   "cell_type": "code",
   "execution_count": 18,
   "id": "feeef496",
   "metadata": {},
   "outputs": [],
   "source": [
    "def get_indicators(data):\n",
    "    \n",
    "    for i in INDICATORS:\n",
    "        \n",
    "        ind_data = eval('TA.' + i + '(data)')\n",
    "        if not isinstance(ind_data, pd.DataFrame):\n",
    "            ind_data = ind_data.to_frame()\n",
    "            \n",
    "        data = data.merge(ind_data, left_index=True, right_index=True)\n",
    "        \n",
    "    data.rename(columns={\"14 period EMV.\": '14 period EMV'}, inplace=True)\n",
    "\n",
    "    # calculate moving averages for features\n",
    "    data['ema50'] = data['close'] / data['close'].ewm(50).mean()\n",
    "    data['ema21'] = data['close'] / data['close'].ewm(21).mean()\n",
    "    data['ema15'] = data['close'] / data['close'].ewm(14).mean()\n",
    "    data['ema5'] = data['close'] / data['close'].ewm(5).mean()\n",
    "\n",
    "    # instead of using the actual volume value (which changes over time), we normalize it with a moving volume average\n",
    "    data['normVol'] = data['volume'] / data['volume'].ewm(5).mean()\n",
    "    \n",
    "    return data"
   ]
  },
  {
   "cell_type": "markdown",
   "id": "142e08a1",
   "metadata": {},
   "source": [
    "Function for assigning stock features, including the 50-day, 21-day, 15-day, and 5-day moving averages."
   ]
  },
  {
   "cell_type": "code",
   "execution_count": 19,
   "id": "4609eaf4",
   "metadata": {},
   "outputs": [],
   "source": [
    "blok = get_indicators(blok_prelim)"
   ]
  },
  {
   "cell_type": "code",
   "execution_count": 20,
   "id": "91b8f103",
   "metadata": {},
   "outputs": [
    {
     "data": {
      "text/html": [
       "<div>\n",
       "<style scoped>\n",
       "    .dataframe tbody tr th:only-of-type {\n",
       "        vertical-align: middle;\n",
       "    }\n",
       "\n",
       "    .dataframe tbody tr th {\n",
       "        vertical-align: top;\n",
       "    }\n",
       "\n",
       "    .dataframe thead th {\n",
       "        text-align: right;\n",
       "    }\n",
       "</style>\n",
       "<table border=\"1\" class=\"dataframe\">\n",
       "  <thead>\n",
       "    <tr style=\"text-align: right;\">\n",
       "      <th></th>\n",
       "      <th>date</th>\n",
       "      <th>open</th>\n",
       "      <th>high</th>\n",
       "      <th>low</th>\n",
       "      <th>close</th>\n",
       "      <th>volume</th>\n",
       "      <th>Dividends</th>\n",
       "      <th>Stock Splits</th>\n",
       "      <th>14 period RSI</th>\n",
       "      <th>MACD</th>\n",
       "      <th>...</th>\n",
       "      <th>OBV</th>\n",
       "      <th>20 period CCI</th>\n",
       "      <th>14 period EMV</th>\n",
       "      <th>VIm</th>\n",
       "      <th>VIp</th>\n",
       "      <th>ema50</th>\n",
       "      <th>ema21</th>\n",
       "      <th>ema15</th>\n",
       "      <th>ema5</th>\n",
       "      <th>normVol</th>\n",
       "    </tr>\n",
       "  </thead>\n",
       "  <tbody>\n",
       "    <tr>\n",
       "      <th>0</th>\n",
       "      <td>2018-01-25 00:00:00-05:00</td>\n",
       "      <td>17.668915</td>\n",
       "      <td>17.702252</td>\n",
       "      <td>17.402213</td>\n",
       "      <td>17.418882</td>\n",
       "      <td>1140200</td>\n",
       "      <td>0.0</td>\n",
       "      <td>0</td>\n",
       "      <td>NaN</td>\n",
       "      <td>0.000000</td>\n",
       "      <td>...</td>\n",
       "      <td>NaN</td>\n",
       "      <td>NaN</td>\n",
       "      <td>NaN</td>\n",
       "      <td>NaN</td>\n",
       "      <td>NaN</td>\n",
       "      <td>1.000000</td>\n",
       "      <td>1.000000</td>\n",
       "      <td>1.000000</td>\n",
       "      <td>1.000000</td>\n",
       "      <td>1.000000</td>\n",
       "    </tr>\n",
       "    <tr>\n",
       "      <th>1</th>\n",
       "      <td>2018-01-26 00:00:00-05:00</td>\n",
       "      <td>17.485556</td>\n",
       "      <td>17.643909</td>\n",
       "      <td>17.460553</td>\n",
       "      <td>17.643909</td>\n",
       "      <td>1067100</td>\n",
       "      <td>0.0</td>\n",
       "      <td>0</td>\n",
       "      <td>100.000000</td>\n",
       "      <td>0.005049</td>\n",
       "      <td>...</td>\n",
       "      <td>1067100.0</td>\n",
       "      <td>66.666667</td>\n",
       "      <td>NaN</td>\n",
       "      <td>NaN</td>\n",
       "      <td>NaN</td>\n",
       "      <td>1.006354</td>\n",
       "      <td>1.006268</td>\n",
       "      <td>1.006195</td>\n",
       "      <td>1.005831</td>\n",
       "      <td>0.969802</td>\n",
       "    </tr>\n",
       "    <tr>\n",
       "      <th>2</th>\n",
       "      <td>2018-01-29 00:00:00-05:00</td>\n",
       "      <td>17.760592</td>\n",
       "      <td>17.884774</td>\n",
       "      <td>17.693916</td>\n",
       "      <td>17.760592</td>\n",
       "      <td>1133900</td>\n",
       "      <td>0.0</td>\n",
       "      <td>0</td>\n",
       "      <td>100.000000</td>\n",
       "      <td>0.010051</td>\n",
       "      <td>...</td>\n",
       "      <td>2201000.0</td>\n",
       "      <td>100.000000</td>\n",
       "      <td>NaN</td>\n",
       "      <td>NaN</td>\n",
       "      <td>NaN</td>\n",
       "      <td>1.008549</td>\n",
       "      <td>1.008375</td>\n",
       "      <td>1.008230</td>\n",
       "      <td>1.007507</td>\n",
       "      <td>1.018221</td>\n",
       "    </tr>\n",
       "    <tr>\n",
       "      <th>3</th>\n",
       "      <td>2018-01-30 00:00:00-05:00</td>\n",
       "      <td>17.693918</td>\n",
       "      <td>17.693918</td>\n",
       "      <td>17.418883</td>\n",
       "      <td>17.468889</td>\n",
       "      <td>1096700</td>\n",
       "      <td>0.0</td>\n",
       "      <td>0</td>\n",
       "      <td>50.898350</td>\n",
       "      <td>0.001548</td>\n",
       "      <td>...</td>\n",
       "      <td>1104300.0</td>\n",
       "      <td>-53.342890</td>\n",
       "      <td>NaN</td>\n",
       "      <td>NaN</td>\n",
       "      <td>NaN</td>\n",
       "      <td>0.994036</td>\n",
       "      <td>0.993992</td>\n",
       "      <td>0.993959</td>\n",
       "      <td>0.993852</td>\n",
       "      <td>0.989653</td>\n",
       "    </tr>\n",
       "    <tr>\n",
       "      <th>4</th>\n",
       "      <td>2018-01-31 00:00:00-05:00</td>\n",
       "      <td>17.493892</td>\n",
       "      <td>17.526395</td>\n",
       "      <td>17.293866</td>\n",
       "      <td>17.410547</td>\n",
       "      <td>706100</td>\n",
       "      <td>0.0</td>\n",
       "      <td>0</td>\n",
       "      <td>46.030189</td>\n",
       "      <td>-0.005426</td>\n",
       "      <td>...</td>\n",
       "      <td>398200.0</td>\n",
       "      <td>-105.322915</td>\n",
       "      <td>NaN</td>\n",
       "      <td>NaN</td>\n",
       "      <td>NaN</td>\n",
       "      <td>0.992633</td>\n",
       "      <td>0.992700</td>\n",
       "      <td>0.992763</td>\n",
       "      <td>0.993153</td>\n",
       "      <td>0.708843</td>\n",
       "    </tr>\n",
       "    <tr>\n",
       "      <th>...</th>\n",
       "      <td>...</td>\n",
       "      <td>...</td>\n",
       "      <td>...</td>\n",
       "      <td>...</td>\n",
       "      <td>...</td>\n",
       "      <td>...</td>\n",
       "      <td>...</td>\n",
       "      <td>...</td>\n",
       "      <td>...</td>\n",
       "      <td>...</td>\n",
       "      <td>...</td>\n",
       "      <td>...</td>\n",
       "      <td>...</td>\n",
       "      <td>...</td>\n",
       "      <td>...</td>\n",
       "      <td>...</td>\n",
       "      <td>...</td>\n",
       "      <td>...</td>\n",
       "      <td>...</td>\n",
       "      <td>...</td>\n",
       "      <td>...</td>\n",
       "    </tr>\n",
       "    <tr>\n",
       "      <th>1190</th>\n",
       "      <td>2022-10-17 00:00:00-04:00</td>\n",
       "      <td>18.410000</td>\n",
       "      <td>18.700001</td>\n",
       "      <td>18.410000</td>\n",
       "      <td>18.490000</td>\n",
       "      <td>215300</td>\n",
       "      <td>0.0</td>\n",
       "      <td>0</td>\n",
       "      <td>43.175095</td>\n",
       "      <td>-0.564751</td>\n",
       "      <td>...</td>\n",
       "      <td>-9344400.0</td>\n",
       "      <td>-41.534425</td>\n",
       "      <td>-0.108636</td>\n",
       "      <td>0.923517</td>\n",
       "      <td>0.894925</td>\n",
       "      <td>0.847673</td>\n",
       "      <td>0.934245</td>\n",
       "      <td>0.956184</td>\n",
       "      <td>0.992906</td>\n",
       "      <td>1.017894</td>\n",
       "    </tr>\n",
       "    <tr>\n",
       "      <th>1191</th>\n",
       "      <td>2022-10-18 00:00:00-04:00</td>\n",
       "      <td>18.879999</td>\n",
       "      <td>18.950001</td>\n",
       "      <td>18.209999</td>\n",
       "      <td>18.340000</td>\n",
       "      <td>122800</td>\n",
       "      <td>0.0</td>\n",
       "      <td>0</td>\n",
       "      <td>42.061720</td>\n",
       "      <td>-0.548512</td>\n",
       "      <td>...</td>\n",
       "      <td>-9467200.0</td>\n",
       "      <td>-41.900837</td>\n",
       "      <td>-0.161270</td>\n",
       "      <td>0.917862</td>\n",
       "      <td>0.862267</td>\n",
       "      <td>0.843429</td>\n",
       "      <td>0.929765</td>\n",
       "      <td>0.951699</td>\n",
       "      <td>0.987344</td>\n",
       "      <td>0.624208</td>\n",
       "    </tr>\n",
       "    <tr>\n",
       "      <th>1192</th>\n",
       "      <td>2022-10-19 00:00:00-04:00</td>\n",
       "      <td>18.129999</td>\n",
       "      <td>18.312000</td>\n",
       "      <td>17.840000</td>\n",
       "      <td>17.980000</td>\n",
       "      <td>268200</td>\n",
       "      <td>0.0</td>\n",
       "      <td>0</td>\n",
       "      <td>39.433446</td>\n",
       "      <td>-0.558256</td>\n",
       "      <td>...</td>\n",
       "      <td>-9735400.0</td>\n",
       "      <td>-107.438868</td>\n",
       "      <td>-0.192471</td>\n",
       "      <td>0.967225</td>\n",
       "      <td>0.857485</td>\n",
       "      <td>0.829690</td>\n",
       "      <td>0.915196</td>\n",
       "      <td>0.937203</td>\n",
       "      <td>0.973159</td>\n",
       "      <td>1.285461</td>\n",
       "    </tr>\n",
       "    <tr>\n",
       "      <th>1193</th>\n",
       "      <td>2022-10-20 00:00:00-04:00</td>\n",
       "      <td>17.980000</td>\n",
       "      <td>18.469999</td>\n",
       "      <td>17.850000</td>\n",
       "      <td>17.900000</td>\n",
       "      <td>207600</td>\n",
       "      <td>0.0</td>\n",
       "      <td>0</td>\n",
       "      <td>38.852450</td>\n",
       "      <td>-0.565910</td>\n",
       "      <td>...</td>\n",
       "      <td>-9943000.0</td>\n",
       "      <td>-94.020281</td>\n",
       "      <td>-0.250216</td>\n",
       "      <td>0.985373</td>\n",
       "      <td>0.844659</td>\n",
       "      <td>0.828826</td>\n",
       "      <td>0.914819</td>\n",
       "      <td>0.937217</td>\n",
       "      <td>0.973889</td>\n",
       "      <td>0.995839</td>\n",
       "    </tr>\n",
       "    <tr>\n",
       "      <th>1194</th>\n",
       "      <td>2022-10-21 00:00:00-04:00</td>\n",
       "      <td>17.850000</td>\n",
       "      <td>18.379999</td>\n",
       "      <td>17.680000</td>\n",
       "      <td>18.379999</td>\n",
       "      <td>117100</td>\n",
       "      <td>0.0</td>\n",
       "      <td>0</td>\n",
       "      <td>44.167768</td>\n",
       "      <td>-0.527167</td>\n",
       "      <td>...</td>\n",
       "      <td>-9825900.0</td>\n",
       "      <td>-79.183346</td>\n",
       "      <td>-0.294635</td>\n",
       "      <td>0.988216</td>\n",
       "      <td>0.831707</td>\n",
       "      <td>0.853544</td>\n",
       "      <td>0.941947</td>\n",
       "      <td>0.964771</td>\n",
       "      <td>1.000003</td>\n",
       "      <td>0.605983</td>\n",
       "    </tr>\n",
       "  </tbody>\n",
       "</table>\n",
       "<p>1195 rows × 27 columns</p>\n",
       "</div>"
      ],
      "text/plain": [
       "                           date       open       high        low      close  \\\n",
       "0     2018-01-25 00:00:00-05:00  17.668915  17.702252  17.402213  17.418882   \n",
       "1     2018-01-26 00:00:00-05:00  17.485556  17.643909  17.460553  17.643909   \n",
       "2     2018-01-29 00:00:00-05:00  17.760592  17.884774  17.693916  17.760592   \n",
       "3     2018-01-30 00:00:00-05:00  17.693918  17.693918  17.418883  17.468889   \n",
       "4     2018-01-31 00:00:00-05:00  17.493892  17.526395  17.293866  17.410547   \n",
       "...                         ...        ...        ...        ...        ...   \n",
       "1190  2022-10-17 00:00:00-04:00  18.410000  18.700001  18.410000  18.490000   \n",
       "1191  2022-10-18 00:00:00-04:00  18.879999  18.950001  18.209999  18.340000   \n",
       "1192  2022-10-19 00:00:00-04:00  18.129999  18.312000  17.840000  17.980000   \n",
       "1193  2022-10-20 00:00:00-04:00  17.980000  18.469999  17.850000  17.900000   \n",
       "1194  2022-10-21 00:00:00-04:00  17.850000  18.379999  17.680000  18.379999   \n",
       "\n",
       "       volume  Dividends  Stock Splits  14 period RSI      MACD  ...  \\\n",
       "0     1140200        0.0             0            NaN  0.000000  ...   \n",
       "1     1067100        0.0             0     100.000000  0.005049  ...   \n",
       "2     1133900        0.0             0     100.000000  0.010051  ...   \n",
       "3     1096700        0.0             0      50.898350  0.001548  ...   \n",
       "4      706100        0.0             0      46.030189 -0.005426  ...   \n",
       "...       ...        ...           ...            ...       ...  ...   \n",
       "1190   215300        0.0             0      43.175095 -0.564751  ...   \n",
       "1191   122800        0.0             0      42.061720 -0.548512  ...   \n",
       "1192   268200        0.0             0      39.433446 -0.558256  ...   \n",
       "1193   207600        0.0             0      38.852450 -0.565910  ...   \n",
       "1194   117100        0.0             0      44.167768 -0.527167  ...   \n",
       "\n",
       "            OBV  20 period CCI  14 period EMV       VIm       VIp     ema50  \\\n",
       "0           NaN            NaN            NaN       NaN       NaN  1.000000   \n",
       "1     1067100.0      66.666667            NaN       NaN       NaN  1.006354   \n",
       "2     2201000.0     100.000000            NaN       NaN       NaN  1.008549   \n",
       "3     1104300.0     -53.342890            NaN       NaN       NaN  0.994036   \n",
       "4      398200.0    -105.322915            NaN       NaN       NaN  0.992633   \n",
       "...         ...            ...            ...       ...       ...       ...   \n",
       "1190 -9344400.0     -41.534425      -0.108636  0.923517  0.894925  0.847673   \n",
       "1191 -9467200.0     -41.900837      -0.161270  0.917862  0.862267  0.843429   \n",
       "1192 -9735400.0    -107.438868      -0.192471  0.967225  0.857485  0.829690   \n",
       "1193 -9943000.0     -94.020281      -0.250216  0.985373  0.844659  0.828826   \n",
       "1194 -9825900.0     -79.183346      -0.294635  0.988216  0.831707  0.853544   \n",
       "\n",
       "         ema21     ema15      ema5   normVol  \n",
       "0     1.000000  1.000000  1.000000  1.000000  \n",
       "1     1.006268  1.006195  1.005831  0.969802  \n",
       "2     1.008375  1.008230  1.007507  1.018221  \n",
       "3     0.993992  0.993959  0.993852  0.989653  \n",
       "4     0.992700  0.992763  0.993153  0.708843  \n",
       "...        ...       ...       ...       ...  \n",
       "1190  0.934245  0.956184  0.992906  1.017894  \n",
       "1191  0.929765  0.951699  0.987344  0.624208  \n",
       "1192  0.915196  0.937203  0.973159  1.285461  \n",
       "1193  0.914819  0.937217  0.973889  0.995839  \n",
       "1194  0.941947  0.964771  1.000003  0.605983  \n",
       "\n",
       "[1195 rows x 27 columns]"
      ]
     },
     "execution_count": 20,
     "metadata": {},
     "output_type": "execute_result"
    }
   ],
   "source": [
    "blok"
   ]
  },
  {
   "cell_type": "markdown",
   "id": "dbc5f6e8",
   "metadata": {},
   "source": [
    "A quick look at our data."
   ]
  },
  {
   "cell_type": "code",
   "execution_count": 21,
   "id": "437bb8e7",
   "metadata": {},
   "outputs": [],
   "source": [
    "def assign_truth_values(data, timeframe):\n",
    "    \n",
    "    prediction = (data.shift(-timeframe)['close'] >= data['close'])\n",
    "    prediction = prediction.iloc[:-timeframe]\n",
    "    \n",
    "    data['pred'] = prediction.astype(int)\n",
    "    \n",
    "    return data"
   ]
  },
  {
   "cell_type": "markdown",
   "id": "a9738546",
   "metadata": {},
   "source": [
    "Function to assign binary truth values to each day in the time series. An assignment of 1.0 denotes a day on which the stock should be purchased, predicting good performance in the near future. "
   ]
  },
  {
   "cell_type": "code",
   "execution_count": 22,
   "id": "a5b798a8",
   "metadata": {},
   "outputs": [
    {
     "data": {
      "text/html": [
       "<div>\n",
       "<style scoped>\n",
       "    .dataframe tbody tr th:only-of-type {\n",
       "        vertical-align: middle;\n",
       "    }\n",
       "\n",
       "    .dataframe tbody tr th {\n",
       "        vertical-align: top;\n",
       "    }\n",
       "\n",
       "    .dataframe thead th {\n",
       "        text-align: right;\n",
       "    }\n",
       "</style>\n",
       "<table border=\"1\" class=\"dataframe\">\n",
       "  <thead>\n",
       "    <tr style=\"text-align: right;\">\n",
       "      <th></th>\n",
       "      <th>date</th>\n",
       "      <th>open</th>\n",
       "      <th>high</th>\n",
       "      <th>low</th>\n",
       "      <th>volume</th>\n",
       "      <th>Dividends</th>\n",
       "      <th>Stock Splits</th>\n",
       "      <th>14 period RSI</th>\n",
       "      <th>MACD</th>\n",
       "      <th>SIGNAL</th>\n",
       "      <th>...</th>\n",
       "      <th>20 period CCI</th>\n",
       "      <th>14 period EMV</th>\n",
       "      <th>VIm</th>\n",
       "      <th>VIp</th>\n",
       "      <th>ema50</th>\n",
       "      <th>ema21</th>\n",
       "      <th>ema15</th>\n",
       "      <th>ema5</th>\n",
       "      <th>normVol</th>\n",
       "      <th>pred</th>\n",
       "    </tr>\n",
       "  </thead>\n",
       "  <tbody>\n",
       "    <tr>\n",
       "      <th>1176</th>\n",
       "      <td>2022-09-27 00:00:00-04:00</td>\n",
       "      <td>18.75</td>\n",
       "      <td>18.980000</td>\n",
       "      <td>18.230000</td>\n",
       "      <td>177700</td>\n",
       "      <td>0.0</td>\n",
       "      <td>0</td>\n",
       "      <td>32.021852</td>\n",
       "      <td>-0.855965</td>\n",
       "      <td>-0.646632</td>\n",
       "      <td>...</td>\n",
       "      <td>-125.655575</td>\n",
       "      <td>-0.208787</td>\n",
       "      <td>1.023099</td>\n",
       "      <td>0.833904</td>\n",
       "      <td>0.808095</td>\n",
       "      <td>0.887088</td>\n",
       "      <td>0.904547</td>\n",
       "      <td>0.954139</td>\n",
       "      <td>0.807674</td>\n",
       "      <td>1.0</td>\n",
       "    </tr>\n",
       "    <tr>\n",
       "      <th>1177</th>\n",
       "      <td>2022-09-28 00:00:00-04:00</td>\n",
       "      <td>18.40</td>\n",
       "      <td>19.170000</td>\n",
       "      <td>18.389999</td>\n",
       "      <td>153800</td>\n",
       "      <td>0.0</td>\n",
       "      <td>0</td>\n",
       "      <td>40.191677</td>\n",
       "      <td>-0.813553</td>\n",
       "      <td>-0.680017</td>\n",
       "      <td>...</td>\n",
       "      <td>-87.894002</td>\n",
       "      <td>-0.243388</td>\n",
       "      <td>1.073796</td>\n",
       "      <td>0.817061</td>\n",
       "      <td>0.841914</td>\n",
       "      <td>0.924607</td>\n",
       "      <td>0.943241</td>\n",
       "      <td>0.992436</td>\n",
       "      <td>0.735960</td>\n",
       "      <td>0.0</td>\n",
       "    </tr>\n",
       "    <tr>\n",
       "      <th>1178</th>\n",
       "      <td>2022-09-29 00:00:00-04:00</td>\n",
       "      <td>18.74</td>\n",
       "      <td>18.794001</td>\n",
       "      <td>18.330000</td>\n",
       "      <td>224700</td>\n",
       "      <td>0.0</td>\n",
       "      <td>0</td>\n",
       "      <td>36.529215</td>\n",
       "      <td>-0.814929</td>\n",
       "      <td>-0.706999</td>\n",
       "      <td>...</td>\n",
       "      <td>-101.819036</td>\n",
       "      <td>-0.382241</td>\n",
       "      <td>1.130613</td>\n",
       "      <td>0.672394</td>\n",
       "      <td>0.820629</td>\n",
       "      <td>0.902192</td>\n",
       "      <td>0.921260</td>\n",
       "      <td>0.969724</td>\n",
       "      <td>1.061914</td>\n",
       "      <td>0.0</td>\n",
       "    </tr>\n",
       "    <tr>\n",
       "      <th>1179</th>\n",
       "      <td>2022-09-30 00:00:00-04:00</td>\n",
       "      <td>18.48</td>\n",
       "      <td>19.150000</td>\n",
       "      <td>18.469999</td>\n",
       "      <td>159200</td>\n",
       "      <td>0.0</td>\n",
       "      <td>0</td>\n",
       "      <td>36.078602</td>\n",
       "      <td>-0.812303</td>\n",
       "      <td>-0.728060</td>\n",
       "      <td>...</td>\n",
       "      <td>-81.287045</td>\n",
       "      <td>-0.358474</td>\n",
       "      <td>1.129750</td>\n",
       "      <td>0.649645</td>\n",
       "      <td>0.820471</td>\n",
       "      <td>0.902946</td>\n",
       "      <td>0.922845</td>\n",
       "      <td>0.971563</td>\n",
       "      <td>0.784755</td>\n",
       "      <td>0.0</td>\n",
       "    </tr>\n",
       "    <tr>\n",
       "      <th>1180</th>\n",
       "      <td>2022-10-03 00:00:00-04:00</td>\n",
       "      <td>18.66</td>\n",
       "      <td>19.090000</td>\n",
       "      <td>18.450001</td>\n",
       "      <td>164900</td>\n",
       "      <td>0.0</td>\n",
       "      <td>0</td>\n",
       "      <td>41.313271</td>\n",
       "      <td>-0.763496</td>\n",
       "      <td>-0.735147</td>\n",
       "      <td>...</td>\n",
       "      <td>-65.035604</td>\n",
       "      <td>-0.250317</td>\n",
       "      <td>1.145854</td>\n",
       "      <td>0.727945</td>\n",
       "      <td>0.843941</td>\n",
       "      <td>0.929015</td>\n",
       "      <td>0.949691</td>\n",
       "      <td>0.996870</td>\n",
       "      <td>0.839023</td>\n",
       "      <td>0.0</td>\n",
       "    </tr>\n",
       "  </tbody>\n",
       "</table>\n",
       "<p>5 rows × 27 columns</p>\n",
       "</div>"
      ],
      "text/plain": [
       "                           date   open       high        low  volume  \\\n",
       "1176  2022-09-27 00:00:00-04:00  18.75  18.980000  18.230000  177700   \n",
       "1177  2022-09-28 00:00:00-04:00  18.40  19.170000  18.389999  153800   \n",
       "1178  2022-09-29 00:00:00-04:00  18.74  18.794001  18.330000  224700   \n",
       "1179  2022-09-30 00:00:00-04:00  18.48  19.150000  18.469999  159200   \n",
       "1180  2022-10-03 00:00:00-04:00  18.66  19.090000  18.450001  164900   \n",
       "\n",
       "      Dividends  Stock Splits  14 period RSI      MACD    SIGNAL  ...  \\\n",
       "1176        0.0             0      32.021852 -0.855965 -0.646632  ...   \n",
       "1177        0.0             0      40.191677 -0.813553 -0.680017  ...   \n",
       "1178        0.0             0      36.529215 -0.814929 -0.706999  ...   \n",
       "1179        0.0             0      36.078602 -0.812303 -0.728060  ...   \n",
       "1180        0.0             0      41.313271 -0.763496 -0.735147  ...   \n",
       "\n",
       "      20 period CCI  14 period EMV       VIm       VIp     ema50     ema21  \\\n",
       "1176    -125.655575      -0.208787  1.023099  0.833904  0.808095  0.887088   \n",
       "1177     -87.894002      -0.243388  1.073796  0.817061  0.841914  0.924607   \n",
       "1178    -101.819036      -0.382241  1.130613  0.672394  0.820629  0.902192   \n",
       "1179     -81.287045      -0.358474  1.129750  0.649645  0.820471  0.902946   \n",
       "1180     -65.035604      -0.250317  1.145854  0.727945  0.843941  0.929015   \n",
       "\n",
       "         ema15      ema5   normVol  pred  \n",
       "1176  0.904547  0.954139  0.807674   1.0  \n",
       "1177  0.943241  0.992436  0.735960   0.0  \n",
       "1178  0.921260  0.969724  1.061914   0.0  \n",
       "1179  0.922845  0.971563  0.784755   0.0  \n",
       "1180  0.949691  0.996870  0.839023   0.0  \n",
       "\n",
       "[5 rows x 27 columns]"
      ]
     },
     "execution_count": 22,
     "metadata": {},
     "output_type": "execute_result"
    }
   ],
   "source": [
    "blok_truth_values = assign_truth_values(blok, timeframe=14)\n",
    "blok_truth_values.drop(columns=['close'], inplace=True)\n",
    "blok_truth_values.dropna(inplace=True)\n",
    "blok_truth_values.tail()"
   ]
  },
  {
   "cell_type": "markdown",
   "id": "d92164e6",
   "metadata": {},
   "source": []
  },
  {
   "cell_type": "markdown",
   "id": "127f8f05",
   "metadata": {},
   "source": [
    "## Generating training and testing data, building our Random Forest models\n",
    "We will be splitting our data into training and testing data. 80% of the data will be used to train our model, while the remaining 20% will be used to test its predictive accuracy, shown by passing in 0.20 as the 'test_size' argument when splitting the data."
   ]
  },
  {
   "cell_type": "code",
   "execution_count": 23,
   "id": "4281b71b",
   "metadata": {},
   "outputs": [],
   "source": [
    "blok_truth_values.drop(columns=[\"date\"], inplace=True)"
   ]
  },
  {
   "cell_type": "code",
   "execution_count": 24,
   "id": "72b04dbd",
   "metadata": {},
   "outputs": [],
   "source": [
    "X = blok_truth_values.drop(columns=[\"pred\"], axis=1)"
   ]
  },
  {
   "cell_type": "code",
   "execution_count": 25,
   "id": "2c24cb48",
   "metadata": {},
   "outputs": [],
   "source": [
    "y = blok_truth_values['pred']"
   ]
  },
  {
   "cell_type": "code",
   "execution_count": 26,
   "id": "e11e88a1",
   "metadata": {},
   "outputs": [],
   "source": [
    "X_train, X_test, y_train, y_test = train_test_split(X, y, test_size=0.20, random_state=22)"
   ]
  },
  {
   "cell_type": "code",
   "execution_count": 27,
   "id": "3eb1de7e",
   "metadata": {},
   "outputs": [
    {
     "data": {
      "text/html": [
       "<style>#sk-container-id-1 {color: black;background-color: white;}#sk-container-id-1 pre{padding: 0;}#sk-container-id-1 div.sk-toggleable {background-color: white;}#sk-container-id-1 label.sk-toggleable__label {cursor: pointer;display: block;width: 100%;margin-bottom: 0;padding: 0.3em;box-sizing: border-box;text-align: center;}#sk-container-id-1 label.sk-toggleable__label-arrow:before {content: \"▸\";float: left;margin-right: 0.25em;color: #696969;}#sk-container-id-1 label.sk-toggleable__label-arrow:hover:before {color: black;}#sk-container-id-1 div.sk-estimator:hover label.sk-toggleable__label-arrow:before {color: black;}#sk-container-id-1 div.sk-toggleable__content {max-height: 0;max-width: 0;overflow: hidden;text-align: left;background-color: #f0f8ff;}#sk-container-id-1 div.sk-toggleable__content pre {margin: 0.2em;color: black;border-radius: 0.25em;background-color: #f0f8ff;}#sk-container-id-1 input.sk-toggleable__control:checked~div.sk-toggleable__content {max-height: 200px;max-width: 100%;overflow: auto;}#sk-container-id-1 input.sk-toggleable__control:checked~label.sk-toggleable__label-arrow:before {content: \"▾\";}#sk-container-id-1 div.sk-estimator input.sk-toggleable__control:checked~label.sk-toggleable__label {background-color: #d4ebff;}#sk-container-id-1 div.sk-label input.sk-toggleable__control:checked~label.sk-toggleable__label {background-color: #d4ebff;}#sk-container-id-1 input.sk-hidden--visually {border: 0;clip: rect(1px 1px 1px 1px);clip: rect(1px, 1px, 1px, 1px);height: 1px;margin: -1px;overflow: hidden;padding: 0;position: absolute;width: 1px;}#sk-container-id-1 div.sk-estimator {font-family: monospace;background-color: #f0f8ff;border: 1px dotted black;border-radius: 0.25em;box-sizing: border-box;margin-bottom: 0.5em;}#sk-container-id-1 div.sk-estimator:hover {background-color: #d4ebff;}#sk-container-id-1 div.sk-parallel-item::after {content: \"\";width: 100%;border-bottom: 1px solid gray;flex-grow: 1;}#sk-container-id-1 div.sk-label:hover label.sk-toggleable__label {background-color: #d4ebff;}#sk-container-id-1 div.sk-serial::before {content: \"\";position: absolute;border-left: 1px solid gray;box-sizing: border-box;top: 0;bottom: 0;left: 50%;z-index: 0;}#sk-container-id-1 div.sk-serial {display: flex;flex-direction: column;align-items: center;background-color: white;padding-right: 0.2em;padding-left: 0.2em;position: relative;}#sk-container-id-1 div.sk-item {position: relative;z-index: 1;}#sk-container-id-1 div.sk-parallel {display: flex;align-items: stretch;justify-content: center;background-color: white;position: relative;}#sk-container-id-1 div.sk-item::before, #sk-container-id-1 div.sk-parallel-item::before {content: \"\";position: absolute;border-left: 1px solid gray;box-sizing: border-box;top: 0;bottom: 0;left: 50%;z-index: -1;}#sk-container-id-1 div.sk-parallel-item {display: flex;flex-direction: column;z-index: 1;position: relative;background-color: white;}#sk-container-id-1 div.sk-parallel-item:first-child::after {align-self: flex-end;width: 50%;}#sk-container-id-1 div.sk-parallel-item:last-child::after {align-self: flex-start;width: 50%;}#sk-container-id-1 div.sk-parallel-item:only-child::after {width: 0;}#sk-container-id-1 div.sk-dashed-wrapped {border: 1px dashed gray;margin: 0 0.4em 0.5em 0.4em;box-sizing: border-box;padding-bottom: 0.4em;background-color: white;}#sk-container-id-1 div.sk-label label {font-family: monospace;font-weight: bold;display: inline-block;line-height: 1.2em;}#sk-container-id-1 div.sk-label-container {text-align: center;}#sk-container-id-1 div.sk-container {/* jupyter's `normalize.less` sets `[hidden] { display: none; }` but bootstrap.min.css set `[hidden] { display: none !important; }` so we also need the `!important` here to be able to override the default hidden behavior on the sphinx rendered scikit-learn.org. See: https://github.com/scikit-learn/scikit-learn/issues/21755 */display: inline-block !important;position: relative;}#sk-container-id-1 div.sk-text-repr-fallback {display: none;}</style><div id=\"sk-container-id-1\" class=\"sk-top-container\"><div class=\"sk-text-repr-fallback\"><pre>RandomForestClassifier()</pre><b>In a Jupyter environment, please rerun this cell to show the HTML representation or trust the notebook. <br />On GitHub, the HTML representation is unable to render, please try loading this page with nbviewer.org.</b></div><div class=\"sk-container\" hidden><div class=\"sk-item\"><div class=\"sk-estimator sk-toggleable\"><input class=\"sk-toggleable__control sk-hidden--visually\" id=\"sk-estimator-id-1\" type=\"checkbox\" checked><label for=\"sk-estimator-id-1\" class=\"sk-toggleable__label sk-toggleable__label-arrow\">RandomForestClassifier</label><div class=\"sk-toggleable__content\"><pre>RandomForestClassifier()</pre></div></div></div></div></div>"
      ],
      "text/plain": [
       "RandomForestClassifier()"
      ]
     },
     "execution_count": 27,
     "metadata": {},
     "output_type": "execute_result"
    }
   ],
   "source": [
    "random_forest = RandomForestClassifier()\n",
    "random_forest.fit(X_train, y_train)"
   ]
  },
  {
   "cell_type": "markdown",
   "id": "21951a89",
   "metadata": {},
   "source": [
    "Initial testing of the basic first model yields high test accuracy (obviously a positive indicator), but also a training accuracy of 1.0. This indicates that our model is possibly overfitting. We will remedy this by tuning the hyperparameters of the Random Forest model, to build the optimal model. "
   ]
  },
  {
   "cell_type": "code",
   "execution_count": 28,
   "id": "a094b06e",
   "metadata": {},
   "outputs": [
    {
     "data": {
      "text/plain": [
       "0.8658008658008658"
      ]
     },
     "execution_count": 28,
     "metadata": {},
     "output_type": "execute_result"
    }
   ],
   "source": [
    "random_forest.score(X_test, y_test)"
   ]
  },
  {
   "cell_type": "code",
   "execution_count": 29,
   "id": "5787bb19",
   "metadata": {},
   "outputs": [
    {
     "data": {
      "text/plain": [
       "1.0"
      ]
     },
     "execution_count": 29,
     "metadata": {},
     "output_type": "execute_result"
    }
   ],
   "source": [
    "random_forest.score(X_train, y_train)"
   ]
  },
  {
   "cell_type": "markdown",
   "id": "f3f3bb15",
   "metadata": {},
   "source": [
    "Using Halving Grid Search from the sklearn library, we will search an array of potential permutations of specific hyperparameters, defined by 'parameter_grid' below. The hyperparameters will adjust include the maximum depth of each tree in the forest, the minimum samples required to split a tree node, and the minimum samples required to be at a leaf node in a tree. The resource we will use is the number of trees in the forest ('n_estimators')."
   ]
  },
  {
   "cell_type": "code",
   "execution_count": 30,
   "id": "d97b927b",
   "metadata": {},
   "outputs": [],
   "source": [
    "parameter_grid = {'max_depth': [3,5,10],\n",
    "                 'min_samples_split': [2,5,10],\n",
    "                 'min_samples_leaf':[1,3,5,10]}\n",
    "\n",
    "base_estimator = RandomForestClassifier(random_state=0)\n",
    "\n",
    "halving = HalvingGridSearchCV(base_estimator, parameter_grid, cv=5,\n",
    "                             factor=2, resource='n_estimators',\n",
    "                             max_resources=30).fit(X, y)"
   ]
  },
  {
   "cell_type": "markdown",
   "id": "16569c3c",
   "metadata": {},
   "source": [
    "After running Halving Grid Search on the parameter grid, the optimal model is detailed below."
   ]
  },
  {
   "cell_type": "code",
   "execution_count": 31,
   "id": "8c2ace24",
   "metadata": {},
   "outputs": [
    {
     "data": {
      "text/html": [
       "<style>#sk-container-id-2 {color: black;background-color: white;}#sk-container-id-2 pre{padding: 0;}#sk-container-id-2 div.sk-toggleable {background-color: white;}#sk-container-id-2 label.sk-toggleable__label {cursor: pointer;display: block;width: 100%;margin-bottom: 0;padding: 0.3em;box-sizing: border-box;text-align: center;}#sk-container-id-2 label.sk-toggleable__label-arrow:before {content: \"▸\";float: left;margin-right: 0.25em;color: #696969;}#sk-container-id-2 label.sk-toggleable__label-arrow:hover:before {color: black;}#sk-container-id-2 div.sk-estimator:hover label.sk-toggleable__label-arrow:before {color: black;}#sk-container-id-2 div.sk-toggleable__content {max-height: 0;max-width: 0;overflow: hidden;text-align: left;background-color: #f0f8ff;}#sk-container-id-2 div.sk-toggleable__content pre {margin: 0.2em;color: black;border-radius: 0.25em;background-color: #f0f8ff;}#sk-container-id-2 input.sk-toggleable__control:checked~div.sk-toggleable__content {max-height: 200px;max-width: 100%;overflow: auto;}#sk-container-id-2 input.sk-toggleable__control:checked~label.sk-toggleable__label-arrow:before {content: \"▾\";}#sk-container-id-2 div.sk-estimator input.sk-toggleable__control:checked~label.sk-toggleable__label {background-color: #d4ebff;}#sk-container-id-2 div.sk-label input.sk-toggleable__control:checked~label.sk-toggleable__label {background-color: #d4ebff;}#sk-container-id-2 input.sk-hidden--visually {border: 0;clip: rect(1px 1px 1px 1px);clip: rect(1px, 1px, 1px, 1px);height: 1px;margin: -1px;overflow: hidden;padding: 0;position: absolute;width: 1px;}#sk-container-id-2 div.sk-estimator {font-family: monospace;background-color: #f0f8ff;border: 1px dotted black;border-radius: 0.25em;box-sizing: border-box;margin-bottom: 0.5em;}#sk-container-id-2 div.sk-estimator:hover {background-color: #d4ebff;}#sk-container-id-2 div.sk-parallel-item::after {content: \"\";width: 100%;border-bottom: 1px solid gray;flex-grow: 1;}#sk-container-id-2 div.sk-label:hover label.sk-toggleable__label {background-color: #d4ebff;}#sk-container-id-2 div.sk-serial::before {content: \"\";position: absolute;border-left: 1px solid gray;box-sizing: border-box;top: 0;bottom: 0;left: 50%;z-index: 0;}#sk-container-id-2 div.sk-serial {display: flex;flex-direction: column;align-items: center;background-color: white;padding-right: 0.2em;padding-left: 0.2em;position: relative;}#sk-container-id-2 div.sk-item {position: relative;z-index: 1;}#sk-container-id-2 div.sk-parallel {display: flex;align-items: stretch;justify-content: center;background-color: white;position: relative;}#sk-container-id-2 div.sk-item::before, #sk-container-id-2 div.sk-parallel-item::before {content: \"\";position: absolute;border-left: 1px solid gray;box-sizing: border-box;top: 0;bottom: 0;left: 50%;z-index: -1;}#sk-container-id-2 div.sk-parallel-item {display: flex;flex-direction: column;z-index: 1;position: relative;background-color: white;}#sk-container-id-2 div.sk-parallel-item:first-child::after {align-self: flex-end;width: 50%;}#sk-container-id-2 div.sk-parallel-item:last-child::after {align-self: flex-start;width: 50%;}#sk-container-id-2 div.sk-parallel-item:only-child::after {width: 0;}#sk-container-id-2 div.sk-dashed-wrapped {border: 1px dashed gray;margin: 0 0.4em 0.5em 0.4em;box-sizing: border-box;padding-bottom: 0.4em;background-color: white;}#sk-container-id-2 div.sk-label label {font-family: monospace;font-weight: bold;display: inline-block;line-height: 1.2em;}#sk-container-id-2 div.sk-label-container {text-align: center;}#sk-container-id-2 div.sk-container {/* jupyter's `normalize.less` sets `[hidden] { display: none; }` but bootstrap.min.css set `[hidden] { display: none !important; }` so we also need the `!important` here to be able to override the default hidden behavior on the sphinx rendered scikit-learn.org. See: https://github.com/scikit-learn/scikit-learn/issues/21755 */display: inline-block !important;position: relative;}#sk-container-id-2 div.sk-text-repr-fallback {display: none;}</style><div id=\"sk-container-id-2\" class=\"sk-top-container\"><div class=\"sk-text-repr-fallback\"><pre>RandomForestClassifier(max_depth=10, min_samples_leaf=3, n_estimators=16,\n",
       "                       random_state=0)</pre><b>In a Jupyter environment, please rerun this cell to show the HTML representation or trust the notebook. <br />On GitHub, the HTML representation is unable to render, please try loading this page with nbviewer.org.</b></div><div class=\"sk-container\" hidden><div class=\"sk-item\"><div class=\"sk-estimator sk-toggleable\"><input class=\"sk-toggleable__control sk-hidden--visually\" id=\"sk-estimator-id-2\" type=\"checkbox\" checked><label for=\"sk-estimator-id-2\" class=\"sk-toggleable__label sk-toggleable__label-arrow\">RandomForestClassifier</label><div class=\"sk-toggleable__content\"><pre>RandomForestClassifier(max_depth=10, min_samples_leaf=3, n_estimators=16,\n",
       "                       random_state=0)</pre></div></div></div></div></div>"
      ],
      "text/plain": [
       "RandomForestClassifier(max_depth=10, min_samples_leaf=3, n_estimators=16,\n",
       "                       random_state=0)"
      ]
     },
     "execution_count": 31,
     "metadata": {},
     "output_type": "execute_result"
    }
   ],
   "source": [
    "halving.best_estimator_"
   ]
  },
  {
   "cell_type": "code",
   "execution_count": 32,
   "id": "b1bb47e5",
   "metadata": {},
   "outputs": [],
   "source": [
    "model = RandomForestClassifier(max_depth=10, min_samples_leaf=3, n_estimators=16,\n",
    "                              random_state=0)"
   ]
  },
  {
   "cell_type": "code",
   "execution_count": 33,
   "id": "a9c38beb",
   "metadata": {},
   "outputs": [
    {
     "data": {
      "text/html": [
       "<style>#sk-container-id-3 {color: black;background-color: white;}#sk-container-id-3 pre{padding: 0;}#sk-container-id-3 div.sk-toggleable {background-color: white;}#sk-container-id-3 label.sk-toggleable__label {cursor: pointer;display: block;width: 100%;margin-bottom: 0;padding: 0.3em;box-sizing: border-box;text-align: center;}#sk-container-id-3 label.sk-toggleable__label-arrow:before {content: \"▸\";float: left;margin-right: 0.25em;color: #696969;}#sk-container-id-3 label.sk-toggleable__label-arrow:hover:before {color: black;}#sk-container-id-3 div.sk-estimator:hover label.sk-toggleable__label-arrow:before {color: black;}#sk-container-id-3 div.sk-toggleable__content {max-height: 0;max-width: 0;overflow: hidden;text-align: left;background-color: #f0f8ff;}#sk-container-id-3 div.sk-toggleable__content pre {margin: 0.2em;color: black;border-radius: 0.25em;background-color: #f0f8ff;}#sk-container-id-3 input.sk-toggleable__control:checked~div.sk-toggleable__content {max-height: 200px;max-width: 100%;overflow: auto;}#sk-container-id-3 input.sk-toggleable__control:checked~label.sk-toggleable__label-arrow:before {content: \"▾\";}#sk-container-id-3 div.sk-estimator input.sk-toggleable__control:checked~label.sk-toggleable__label {background-color: #d4ebff;}#sk-container-id-3 div.sk-label input.sk-toggleable__control:checked~label.sk-toggleable__label {background-color: #d4ebff;}#sk-container-id-3 input.sk-hidden--visually {border: 0;clip: rect(1px 1px 1px 1px);clip: rect(1px, 1px, 1px, 1px);height: 1px;margin: -1px;overflow: hidden;padding: 0;position: absolute;width: 1px;}#sk-container-id-3 div.sk-estimator {font-family: monospace;background-color: #f0f8ff;border: 1px dotted black;border-radius: 0.25em;box-sizing: border-box;margin-bottom: 0.5em;}#sk-container-id-3 div.sk-estimator:hover {background-color: #d4ebff;}#sk-container-id-3 div.sk-parallel-item::after {content: \"\";width: 100%;border-bottom: 1px solid gray;flex-grow: 1;}#sk-container-id-3 div.sk-label:hover label.sk-toggleable__label {background-color: #d4ebff;}#sk-container-id-3 div.sk-serial::before {content: \"\";position: absolute;border-left: 1px solid gray;box-sizing: border-box;top: 0;bottom: 0;left: 50%;z-index: 0;}#sk-container-id-3 div.sk-serial {display: flex;flex-direction: column;align-items: center;background-color: white;padding-right: 0.2em;padding-left: 0.2em;position: relative;}#sk-container-id-3 div.sk-item {position: relative;z-index: 1;}#sk-container-id-3 div.sk-parallel {display: flex;align-items: stretch;justify-content: center;background-color: white;position: relative;}#sk-container-id-3 div.sk-item::before, #sk-container-id-3 div.sk-parallel-item::before {content: \"\";position: absolute;border-left: 1px solid gray;box-sizing: border-box;top: 0;bottom: 0;left: 50%;z-index: -1;}#sk-container-id-3 div.sk-parallel-item {display: flex;flex-direction: column;z-index: 1;position: relative;background-color: white;}#sk-container-id-3 div.sk-parallel-item:first-child::after {align-self: flex-end;width: 50%;}#sk-container-id-3 div.sk-parallel-item:last-child::after {align-self: flex-start;width: 50%;}#sk-container-id-3 div.sk-parallel-item:only-child::after {width: 0;}#sk-container-id-3 div.sk-dashed-wrapped {border: 1px dashed gray;margin: 0 0.4em 0.5em 0.4em;box-sizing: border-box;padding-bottom: 0.4em;background-color: white;}#sk-container-id-3 div.sk-label label {font-family: monospace;font-weight: bold;display: inline-block;line-height: 1.2em;}#sk-container-id-3 div.sk-label-container {text-align: center;}#sk-container-id-3 div.sk-container {/* jupyter's `normalize.less` sets `[hidden] { display: none; }` but bootstrap.min.css set `[hidden] { display: none !important; }` so we also need the `!important` here to be able to override the default hidden behavior on the sphinx rendered scikit-learn.org. See: https://github.com/scikit-learn/scikit-learn/issues/21755 */display: inline-block !important;position: relative;}#sk-container-id-3 div.sk-text-repr-fallback {display: none;}</style><div id=\"sk-container-id-3\" class=\"sk-top-container\"><div class=\"sk-text-repr-fallback\"><pre>RandomForestClassifier(max_depth=10, min_samples_leaf=3, n_estimators=16,\n",
       "                       random_state=0)</pre><b>In a Jupyter environment, please rerun this cell to show the HTML representation or trust the notebook. <br />On GitHub, the HTML representation is unable to render, please try loading this page with nbviewer.org.</b></div><div class=\"sk-container\" hidden><div class=\"sk-item\"><div class=\"sk-estimator sk-toggleable\"><input class=\"sk-toggleable__control sk-hidden--visually\" id=\"sk-estimator-id-3\" type=\"checkbox\" checked><label for=\"sk-estimator-id-3\" class=\"sk-toggleable__label sk-toggleable__label-arrow\">RandomForestClassifier</label><div class=\"sk-toggleable__content\"><pre>RandomForestClassifier(max_depth=10, min_samples_leaf=3, n_estimators=16,\n",
       "                       random_state=0)</pre></div></div></div></div></div>"
      ],
      "text/plain": [
       "RandomForestClassifier(max_depth=10, min_samples_leaf=3, n_estimators=16,\n",
       "                       random_state=0)"
      ]
     },
     "execution_count": 33,
     "metadata": {},
     "output_type": "execute_result"
    }
   ],
   "source": [
    "model.fit(X_train, y_train)"
   ]
  },
  {
   "cell_type": "markdown",
   "id": "17e6146a",
   "metadata": {},
   "source": [
    "After fitting our newly tuned model, the test accuracy is a more realistic 82%, with a training accuracy of 97%. This is good evidence that our model is no longer overfitting. "
   ]
  },
  {
   "cell_type": "code",
   "execution_count": 34,
   "id": "52938c6e",
   "metadata": {},
   "outputs": [
    {
     "data": {
      "text/plain": [
       "0.8181818181818182"
      ]
     },
     "execution_count": 34,
     "metadata": {},
     "output_type": "execute_result"
    }
   ],
   "source": [
    "model.score(X_test, y_test)"
   ]
  },
  {
   "cell_type": "code",
   "execution_count": 35,
   "id": "bcc9dc34",
   "metadata": {},
   "outputs": [
    {
     "data": {
      "text/plain": [
       "0.9707158351409978"
      ]
     },
     "execution_count": 35,
     "metadata": {},
     "output_type": "execute_result"
    }
   ],
   "source": [
    "model.score(X_train, y_train)"
   ]
  },
  {
   "cell_type": "markdown",
   "id": "371ccea5",
   "metadata": {},
   "source": [
    "# Determining the most useful features\n",
    "Below, the feature importances for each respective feature in our data are displayed in a dataframe. Each importance value is that feature's percentage of the data's ability to predict a favourable close price. The open, high and low prices are expectedly useful, but the metrics of Modified Fixed Variable (MFV) rate and On Balance Volume (OBV) interestingly make up a larger share. "
   ]
  },
  {
   "cell_type": "code",
   "execution_count": 36,
   "id": "7e5f0d7d",
   "metadata": {},
   "outputs": [],
   "source": [
    "importances = model.feature_importances_\n",
    "std = np.std([tree.feature_importances_ for tree in model.estimators_], axis=0)\n",
    "feature_names = [f\"{i}\" for i in X.columns]"
   ]
  },
  {
   "cell_type": "code",
   "execution_count": 37,
   "id": "e9e88d5d",
   "metadata": {
    "scrolled": true
   },
   "outputs": [
    {
     "data": {
      "text/html": [
       "<div>\n",
       "<style scoped>\n",
       "    .dataframe tbody tr th:only-of-type {\n",
       "        vertical-align: middle;\n",
       "    }\n",
       "\n",
       "    .dataframe tbody tr th {\n",
       "        vertical-align: top;\n",
       "    }\n",
       "\n",
       "    .dataframe thead th {\n",
       "        text-align: right;\n",
       "    }\n",
       "</style>\n",
       "<table border=\"1\" class=\"dataframe\">\n",
       "  <thead>\n",
       "    <tr style=\"text-align: right;\">\n",
       "      <th></th>\n",
       "      <th>feature</th>\n",
       "      <th>importance</th>\n",
       "    </tr>\n",
       "  </thead>\n",
       "  <tbody>\n",
       "    <tr>\n",
       "      <th>0</th>\n",
       "      <td>open</td>\n",
       "      <td>0.072016</td>\n",
       "    </tr>\n",
       "    <tr>\n",
       "      <th>1</th>\n",
       "      <td>high</td>\n",
       "      <td>0.077766</td>\n",
       "    </tr>\n",
       "    <tr>\n",
       "      <th>2</th>\n",
       "      <td>low</td>\n",
       "      <td>0.060543</td>\n",
       "    </tr>\n",
       "    <tr>\n",
       "      <th>3</th>\n",
       "      <td>volume</td>\n",
       "      <td>0.026770</td>\n",
       "    </tr>\n",
       "    <tr>\n",
       "      <th>4</th>\n",
       "      <td>Dividends</td>\n",
       "      <td>0.000000</td>\n",
       "    </tr>\n",
       "    <tr>\n",
       "      <th>5</th>\n",
       "      <td>Stock Splits</td>\n",
       "      <td>0.000000</td>\n",
       "    </tr>\n",
       "    <tr>\n",
       "      <th>6</th>\n",
       "      <td>14 period RSI</td>\n",
       "      <td>0.038563</td>\n",
       "    </tr>\n",
       "    <tr>\n",
       "      <th>7</th>\n",
       "      <td>MACD</td>\n",
       "      <td>0.042175</td>\n",
       "    </tr>\n",
       "    <tr>\n",
       "      <th>8</th>\n",
       "      <td>SIGNAL</td>\n",
       "      <td>0.053150</td>\n",
       "    </tr>\n",
       "    <tr>\n",
       "      <th>9</th>\n",
       "      <td>14 period STOCH %K</td>\n",
       "      <td>0.016541</td>\n",
       "    </tr>\n",
       "    <tr>\n",
       "      <th>10</th>\n",
       "      <td>MFV</td>\n",
       "      <td>0.128164</td>\n",
       "    </tr>\n",
       "    <tr>\n",
       "      <th>11</th>\n",
       "      <td>14 period ATR</td>\n",
       "      <td>0.065851</td>\n",
       "    </tr>\n",
       "    <tr>\n",
       "      <th>12</th>\n",
       "      <td>MOM</td>\n",
       "      <td>0.024922</td>\n",
       "    </tr>\n",
       "    <tr>\n",
       "      <th>13</th>\n",
       "      <td>14 period MFI</td>\n",
       "      <td>0.029448</td>\n",
       "    </tr>\n",
       "    <tr>\n",
       "      <th>14</th>\n",
       "      <td>ROC</td>\n",
       "      <td>0.019108</td>\n",
       "    </tr>\n",
       "    <tr>\n",
       "      <th>15</th>\n",
       "      <td>OBV</td>\n",
       "      <td>0.078826</td>\n",
       "    </tr>\n",
       "    <tr>\n",
       "      <th>16</th>\n",
       "      <td>20 period CCI</td>\n",
       "      <td>0.015376</td>\n",
       "    </tr>\n",
       "    <tr>\n",
       "      <th>17</th>\n",
       "      <td>14 period EMV</td>\n",
       "      <td>0.038555</td>\n",
       "    </tr>\n",
       "    <tr>\n",
       "      <th>18</th>\n",
       "      <td>VIm</td>\n",
       "      <td>0.032539</td>\n",
       "    </tr>\n",
       "    <tr>\n",
       "      <th>19</th>\n",
       "      <td>VIp</td>\n",
       "      <td>0.030333</td>\n",
       "    </tr>\n",
       "    <tr>\n",
       "      <th>20</th>\n",
       "      <td>ema50</td>\n",
       "      <td>0.049873</td>\n",
       "    </tr>\n",
       "    <tr>\n",
       "      <th>21</th>\n",
       "      <td>ema21</td>\n",
       "      <td>0.037896</td>\n",
       "    </tr>\n",
       "    <tr>\n",
       "      <th>22</th>\n",
       "      <td>ema15</td>\n",
       "      <td>0.033484</td>\n",
       "    </tr>\n",
       "    <tr>\n",
       "      <th>23</th>\n",
       "      <td>ema5</td>\n",
       "      <td>0.013214</td>\n",
       "    </tr>\n",
       "    <tr>\n",
       "      <th>24</th>\n",
       "      <td>normVol</td>\n",
       "      <td>0.014889</td>\n",
       "    </tr>\n",
       "  </tbody>\n",
       "</table>\n",
       "</div>"
      ],
      "text/plain": [
       "               feature  importance\n",
       "0                 open    0.072016\n",
       "1                 high    0.077766\n",
       "2                  low    0.060543\n",
       "3               volume    0.026770\n",
       "4            Dividends    0.000000\n",
       "5         Stock Splits    0.000000\n",
       "6        14 period RSI    0.038563\n",
       "7                 MACD    0.042175\n",
       "8               SIGNAL    0.053150\n",
       "9   14 period STOCH %K    0.016541\n",
       "10                 MFV    0.128164\n",
       "11       14 period ATR    0.065851\n",
       "12                 MOM    0.024922\n",
       "13       14 period MFI    0.029448\n",
       "14                 ROC    0.019108\n",
       "15                 OBV    0.078826\n",
       "16       20 period CCI    0.015376\n",
       "17       14 period EMV    0.038555\n",
       "18                 VIm    0.032539\n",
       "19                 VIp    0.030333\n",
       "20               ema50    0.049873\n",
       "21               ema21    0.037896\n",
       "22               ema15    0.033484\n",
       "23                ema5    0.013214\n",
       "24             normVol    0.014889"
      ]
     },
     "execution_count": 37,
     "metadata": {},
     "output_type": "execute_result"
    }
   ],
   "source": [
    "d = {\"feature\":X.columns, \"importance\":importances}\n",
    "importances_df = pd.DataFrame(data=d)\n",
    "importances_df"
   ]
  },
  {
   "cell_type": "code",
   "execution_count": 38,
   "id": "21f49536",
   "metadata": {},
   "outputs": [
    {
     "data": {
      "image/png": "[encoded data removed]",
      "text/plain": [
       "<Figure size 640x480 with 1 Axes>"
      ]
     },
     "metadata": {},
     "output_type": "display_data"
    }
   ],
   "source": [
    "forest_importances = pd.Series(importances, index=feature_names)\n",
    "\n",
    "fig, ax = plt.subplots()\n",
    "forest_importances.plot.bar(yerr=std, ax=ax)\n",
    "ax.set_title(\"Feature importances using MDI\")\n",
    "ax.set_ylabel(\"Mean decrease in impurity\")\n",
    "fig.tight_layout()"
   ]
  },
  {
   "cell_type": "markdown",
   "id": "c2a38b46",
   "metadata": {},
   "source": [
    "Above is a visualization of each feature's importance based on mean decrease in impurity. "
   ]
  },
  {
   "cell_type": "markdown",
   "id": "92558570",
   "metadata": {},
   "source": [
    "Not only have we implemented an effective model for predicting a stock's performance, but we have quantified and visualized the importance of several key metrics for accomplishing this task. "
   ]
  },
  {
   "cell_type": "markdown",
   "id": "3fbbb8ee",
   "metadata": {},
   "source": [
    "## Further evaluation of model performance \n",
    "\n",
    "In addition to simply measuring our model's predictive accuracy, we will be employing several different methods of quantifying the model's performance, including a confusion matrix, precision/recall, and an ROC curve. "
   ]
  },
  {
   "cell_type": "markdown",
   "id": "78f51070",
   "metadata": {},
   "source": [
    "## Precision and Recall\n",
    "\n",
    "Precision is a measure of a model's ability to identify more relevant results than irrelevant ones, while recall is a measure of a model's ability to identify most of the relevant results (regardless of how many irrelevant results are identified). \n",
    "\n",
    "Precision is defined by the following formula:\n",
    "\n",
    "$\\begin{equation}\n",
    "precision = \\frac {\\text{relevant retrieved instances}}{\\text{all retrieved instances}}\n",
    "\\end{equation}\n",
    "$\n",
    "\n",
    "Recall is defined by the following formula:\n",
    "\n",
    "$\\begin{equation}\n",
    "recall = \\frac {\\text{relevant retrieved instances}}{\\text{all relevant instances}}\n",
    "\\end{equation}\n",
    "$\n",
    "\n",
    "Let's explain these concepts with an example. In the context of predicting whether or not to purchase a stock, the model may select 100 days on which to purchase stock, 81 of which are selected correctly. The precision for this example is $ 81 / 100 $, or 0.81. If there are 90 days on which the stock should be purchased, and the model selects 81, then the recall for this example is $ 81 / 90 $, or 0.90. "
   ]
  },
  {
   "cell_type": "markdown",
   "id": "aaf65136",
   "metadata": {},
   "source": [
    "The precision and recall for our model is below:"
   ]
  },
  {
   "cell_type": "code",
   "execution_count": 71,
   "id": "2f91b1ce",
   "metadata": {},
   "outputs": [
    {
     "name": "stdout",
     "output_type": "stream",
     "text": [
      "Precision:  0.9389312977099237\n",
      "Recall:  0.9549689440993789\n"
     ]
    }
   ],
   "source": [
    "y_pred  = model.predict(X)\n",
    "print(\"Precision: \", metrics.precision_score(y, y_pred))\n",
    "print(\"Recall: \", metrics.recall_score(y, y_pred))"
   ]
  },
  {
   "cell_type": "markdown",
   "id": "9c256e23",
   "metadata": {},
   "source": [
    "Let's get an even better understanding of these metrics by plotting the precision-recall curve for our model."
   ]
  },
  {
   "cell_type": "code",
   "execution_count": 75,
   "id": "e8d86fa2",
   "metadata": {},
   "outputs": [
    {
     "data": {
      "image/png": "[encoded data removed]",
      "text/plain": [
       "<Figure size 640x480 with 1 Axes>"
      ]
     },
     "metadata": {},
     "output_type": "display_data"
    }
   ],
   "source": [
    "prec_rec_display = metrics.PrecisionRecallDisplay.from_estimator(\n",
    "model, X_test, y_test, name=\"Random Forest\")"
   ]
  },
  {
   "cell_type": "markdown",
   "id": "8dac3ead",
   "metadata": {},
   "source": [
    "The area under the curve is large, which is reflective of the model's high precision and high recall. "
   ]
  },
  {
   "cell_type": "markdown",
   "id": "eb72923a",
   "metadata": {},
   "source": [
    "## ROC Curve\n",
    "\n",
    "An ROC (Receiver Operating Characteristic) curve plots the true positive rate against the false positive rate. The Area Under Curve (AUC) is another measure of predictive accuracy, being a measure of the model's ability to distinguish between classes (in our case, whether or not to buy a certain stock). "
   ]
  },
  {
   "cell_type": "code",
   "execution_count": 48,
   "id": "4d0520ab",
   "metadata": {},
   "outputs": [
    {
     "data": {
      "image/png": "[encoded data removed]",
      "text/plain": [
       "<Figure size 640x480 with 1 Axes>"
      ]
     },
     "metadata": {},
     "output_type": "display_data"
    }
   ],
   "source": [
    "roc_display = RocCurveDisplay.from_estimator(model, X_test, y_test, alpha=0.6)"
   ]
  },
  {
   "cell_type": "markdown",
   "id": "3d22d7b7",
   "metadata": {},
   "source": [
    "Our ROC curve increases dramatically towards the top left corner of the plot, indicating good performance. The area under the curve is 0.91, indicating the model's excellent ability to distinguish between classes. "
   ]
  },
  {
   "cell_type": "markdown",
   "id": "d887029b",
   "metadata": {},
   "source": [
    "## Confusion Matrix\n",
    "A confusion matrix is another way to summarize the predictions made by a model and their accuracy. Representing predictions this way gives us a glimpse into how well a model performs when predicting each different class label. "
   ]
  },
  {
   "cell_type": "code",
   "execution_count": 66,
   "id": "a5ac7430",
   "metadata": {},
   "outputs": [],
   "source": [
    "# Generate predictions. The resulting array will be used to create the confusion matrix and corresponding plot. \n",
    "\n",
    "y_pred = model.predict(X_test)"
   ]
  },
  {
   "cell_type": "code",
   "execution_count": 67,
   "id": "749ea469",
   "metadata": {},
   "outputs": [
    {
     "data": {
      "image/png": "[encoded data removed]",
      "text/plain": [
       "<Figure size 1600x700 with 2 Axes>"
      ]
     },
     "metadata": {},
     "output_type": "display_data"
    }
   ],
   "source": [
    "# Code adapted from example found at:\n",
    "# https://medium.com/analytics-vidhya/evaluating-a-random-forest-model-9d165595ad56\n",
    "\n",
    "matrix = metrics.confusion_matrix(y_test, y_pred)\n",
    "matrix = matrix.astype('float') / matrix.sum(axis=1)[:, np.newaxis]\n",
    "\n",
    "# Build the plot\n",
    "plt.figure(figsize=(16,7))\n",
    "sns.set(font_scale=1.4)\n",
    "sns.heatmap(matrix, annot=True, annot_kws={'size':10},\n",
    "            cmap=plt.cm.Greens, linewidths=0.2)\n",
    "\n",
    "# Add labels to the plot\n",
    "class_names = [\"Purchase\", \"Do not purchase\"]\n",
    "tick_marks = np.arange(len(class_names))\n",
    "tick_marks2 = tick_marks + 0.5\n",
    "plt.xticks(tick_marks, class_names, rotation=25)\n",
    "plt.yticks(tick_marks2, class_names, rotation=0)\n",
    "plt.xlabel('Predicted label')\n",
    "plt.ylabel('True label')\n",
    "plt.title('Confusion Matrix for Random Forest Model')\n",
    "plt.show()"
   ]
  },
  {
   "cell_type": "markdown",
   "id": "cd497ef7",
   "metadata": {},
   "source": [
    "The confusion matrix for our model shows that the model predicts when not to buy the stock with slightly better accuracy than when to actually buy the stock. Regardless, the total performance is still very good."
   ]
  }
 ],
 "metadata": {
  "kernelspec": {
   "display_name": "Python 3 (ipykernel)",
   "language": "python",
   "name": "python3"
  },
  "language_info": {
   "codemirror_mode": {
    "name": "ipython",
    "version": 3
   },
   "file_extension": ".py",
   "mimetype": "text/x-python",
   "name": "python",
   "nbconvert_exporter": "python",
   "pygments_lexer": "ipython3",
   "version": "3.10.11"
  }
 },
 "nbformat": 4,
 "nbformat_minor": 5
}
